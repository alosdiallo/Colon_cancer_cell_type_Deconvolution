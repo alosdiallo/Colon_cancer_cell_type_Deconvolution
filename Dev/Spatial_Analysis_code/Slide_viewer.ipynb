{
 "cells": [
  {
   "cell_type": "code",
   "execution_count": 1,
   "id": "21ac6bef",
   "metadata": {},
   "outputs": [
    {
     "ename": "ModuleNotFoundError",
     "evalue": "No module named 'openslide'",
     "output_type": "error",
     "traceback": [
      "\u001b[0;31m---------------------------------------------------------------------------\u001b[0m",
      "\u001b[0;31mModuleNotFoundError\u001b[0m                       Traceback (most recent call last)",
      "Cell \u001b[0;32mIn[1], line 1\u001b[0m\n\u001b[0;32m----> 1\u001b[0m \u001b[38;5;28;01mimport\u001b[39;00m \u001b[38;5;21;01mopenslide\u001b[39;00m\n\u001b[1;32m      2\u001b[0m \u001b[38;5;28;01mfrom\u001b[39;00m \u001b[38;5;21;01mPIL\u001b[39;00m \u001b[38;5;28;01mimport\u001b[39;00m Image\n\u001b[1;32m      4\u001b[0m \u001b[38;5;66;03m# Open the SVS file\u001b[39;00m\n",
      "\u001b[0;31mModuleNotFoundError\u001b[0m: No module named 'openslide'"
     ]
    }
   ],
   "source": [
    "import openslide\n",
    "from PIL import Image\n",
    "\n",
    "# Open the SVS file\n",
    "slide = openslide.OpenSlide('/dartfs/rc/nosnapshots/V/VaickusL-nb/EDIT_Students/projects/visium_colon_9_27_23/wsi/_SS12251_105645.svs')\n",
    "\n",
    "# Get a thumbnail of the whole slide\n",
    "thumbnail = slide.get_thumbnail(size=(1024, 1024))\n",
    "thumbnail.show()\n",
    "\n",
    "# You can also read a specific region of the slide\n",
    "# For example, read a region starting at (x=3000, y=3000) with size 200x200 pixels at level 0\n",
    "region = slide.read_region((3000, 3000), 0, (200, 200))\n",
    "region.show()\n",
    "\n",
    "# Don't forget to close the slide\n",
    "slide.close()"
   ]
  },
  {
   "cell_type": "code",
   "execution_count": null,
   "id": "8731eff2",
   "metadata": {},
   "outputs": [],
   "source": []
  },
  {
   "cell_type": "code",
   "execution_count": null,
   "id": "cd0ad6a0",
   "metadata": {},
   "outputs": [],
   "source": []
  }
 ],
 "metadata": {
  "kernelspec": {
   "display_name": "Python 3 (ipykernel)",
   "language": "python",
   "name": "python3"
  },
  "language_info": {
   "codemirror_mode": {
    "name": "ipython",
    "version": 3
   },
   "file_extension": ".py",
   "mimetype": "text/x-python",
   "name": "python",
   "nbconvert_exporter": "python",
   "pygments_lexer": "ipython3",
   "version": "3.10.13"
  }
 },
 "nbformat": 4,
 "nbformat_minor": 5
}
