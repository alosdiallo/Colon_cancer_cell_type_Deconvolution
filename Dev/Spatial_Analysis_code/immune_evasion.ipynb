{
 "cells": [
  {
   "cell_type": "code",
   "execution_count": 1,
   "id": "1c88cbe9-946c-4644-a13b-a7314e8f883e",
   "metadata": {},
   "outputs": [
    {
     "name": "stderr",
     "output_type": "stream",
     "text": [
      "/opt/anaconda3/lib/python3.12/site-packages/anndata/_core/anndata.py:1756: UserWarning: Variable names are not unique. To make them unique, call `.var_names_make_unique`.\n",
      "  utils.warn_names_duplicates(\"var\")\n"
     ]
    }
   ],
   "source": [
    "import os\n",
    "import glob\n",
    "import scanpy as sc\n",
    "import numpy as np\n",
    "import matplotlib.pyplot as plt\n",
    "import pandas as pd\n",
    "\n",
    "# Define markers specifically for immune evasion\n",
    "immune_evasion_markers = [\"PDCD1\", \"CTLA4\", \"HAVCR2\", \"LAG3\", \"BTLA\", \"TIGIT\"]\n",
    "\n",
    "# Define directory for .h5ad files\n",
    "directory = '/Users/adiallo/Desktop/Thesis/Data_Documents/All_Data/Visium_samples/Visium_Data/samples'\n",
    "file_paths = glob.glob(os.path.join(directory, '*.h5ad'))\n",
    "\n",
    "# Loop over each file path\n",
    "for file_path in file_paths:\n",
    "    # Read the adata file\n",
    "    adata = sc.read_h5ad(file_path)\n",
    "    \n",
    "    # Initialize a DataFrame to store the sum of expression values for immune evasion markers per cell\n",
    "    cells_marker_expression = pd.DataFrame(0, index=adata.obs.index, columns=['Immune Evasion Score'])\n",
    "\n",
    "    # Calculate the immune evasion score as the sum of expression values for each immune evasion marker\n",
    "    for gene in immune_evasion_markers:\n",
    "        if gene in adata.var_names:  # Check if the gene is present\n",
    "            cells_marker_expression['Immune Evasion Score'] += adata[:, gene].X.toarray().ravel()\n",
    "        else:\n",
    "            print(f\"Gene {gene} not found in dataset. Skipping...\")\n",
    "\n",
    "    # Plotting\n",
    "    plt.figure(figsize=(10, 8))\n",
    "    \n",
    "    # Map the immune evasion score to a color gradient\n",
    "    scatter = plt.scatter(\n",
    "        adata.obsm['spatial'][:, 0], \n",
    "        adata.obsm['spatial'][:, 1], \n",
    "        c=cells_marker_expression['Immune Evasion Score'],\n",
    "        cmap='Blues',  # Color map for immune evasion intensity\n",
    "        alpha=0.6\n",
    "    )\n",
    "    \n",
    "    plt.colorbar(scatter, label='Immune Evasion Score')  # Add a color bar for reference\n",
    "    plt.xlabel('Spatial coordinate X')\n",
    "    plt.ylabel('Spatial coordinate Y')\n",
    "    plt.title(f'Spatial distribution of immune evasion markers for {os.path.basename(file_path)}')\n",
    "\n",
    "    # Save the plot\n",
    "    plt.savefig(f\"{os.path.splitext(file_path)[0]}_immune_evasion_markers_intensity_plot.png\", bbox_inches='tight')\n",
    "    plt.close()"
   ]
  },
  {
   "cell_type": "code",
   "execution_count": null,
   "id": "4246c19c-19ae-41d3-ac16-69e5ef35b617",
   "metadata": {},
   "outputs": [],
   "source": []
  }
 ],
 "metadata": {
  "kernelspec": {
   "display_name": "Python 3 (ipykernel)",
   "language": "python",
   "name": "python3"
  },
  "language_info": {
   "codemirror_mode": {
    "name": "ipython",
    "version": 3
   },
   "file_extension": ".py",
   "mimetype": "text/x-python",
   "name": "python",
   "nbconvert_exporter": "python",
   "pygments_lexer": "ipython3",
   "version": "3.12.4"
  }
 },
 "nbformat": 4,
 "nbformat_minor": 5
}
