{
 "cells": [
  {
   "cell_type": "code",
   "execution_count": 1,
   "id": "02ebc9c5-82d3-4595-9091-6c257d86ede1",
   "metadata": {},
   "outputs": [],
   "source": [
    "import os\n",
    "import numpy as np\n",
    "import pandas as pd\n",
    "import torch\n",
    "import matplotlib.pyplot as plt\n",
    "import matplotlib.font_manager\n",
    "from matplotlib import rcParams\n",
    "\n",
    "import seaborn as sns\n",
    "from starfysh import (AA, utils, plot_utils, post_analysis)\n",
    "from starfysh import starfysh as sf_model"
   ]
  },
  {
   "cell_type": "code",
   "execution_count": 2,
   "id": "292e253a-9094-4c36-a210-49e31e569df8",
   "metadata": {},
   "outputs": [],
   "source": [
    "import scanpy as sc\n",
    "import leidenalg\n",
    "import scipy\n",
    "#import squidpy as sq\n",
    "import anndata as ad"
   ]
  },
  {
   "cell_type": "code",
   "execution_count": 15,
   "id": "5d1606e5-5f40-4b0e-9d61-adfe8962619e",
   "metadata": {},
   "outputs": [],
   "source": [
    "#load adata\n",
    "adata = sc.read_h5ad(\"/dartfs/rc/nosnapshots/V/VaickusL-nb/EDIT_Students/users/alos/colon_work/adata/star_example/106_A4-60_B3_0_adata.h5ad\")"
   ]
  },
  {
   "cell_type": "code",
   "execution_count": 3,
   "id": "9ee6a9df-70e6-4185-97eb-9395e8a76969",
   "metadata": {},
   "outputs": [],
   "source": [
    "import scanpy as sc"
   ]
  },
  {
   "cell_type": "code",
   "execution_count": 20,
   "id": "b73c7669-af0c-4328-8df0-424fa42d4135",
   "metadata": {},
   "outputs": [],
   "source": [
    "data_path = '/dartfs/rc/nosnapshots/V/VaickusL-nb/EDIT_Students/users/alos/colon_work/adata/'\n",
    "sample_id = 'star_example'\n",
    "sig_name = 'full_sigs.csv'\n",
    "gene_sig = pd.read_csv(os.path.join(data_path, sig_name))"
   ]
  },
  {
   "cell_type": "code",
   "execution_count": 17,
   "id": "275bf283-22d1-45e7-8749-951eeb21ba10",
   "metadata": {},
   "outputs": [
    {
     "data": {
      "text/html": [
       "<div>\n",
       "<style scoped>\n",
       "    .dataframe tbody tr th:only-of-type {\n",
       "        vertical-align: middle;\n",
       "    }\n",
       "\n",
       "    .dataframe tbody tr th {\n",
       "        vertical-align: top;\n",
       "    }\n",
       "\n",
       "    .dataframe thead th {\n",
       "        text-align: right;\n",
       "    }\n",
       "</style>\n",
       "<table border=\"1\" class=\"dataframe\">\n",
       "  <thead>\n",
       "    <tr style=\"text-align: right;\">\n",
       "      <th></th>\n",
       "      <th>Unnamed: 0</th>\n",
       "      <th>T cells CD4 CCR7</th>\n",
       "      <th>T cells CD4 IL7R</th>\n",
       "      <th>T cells CD4 Tfh CXCL13</th>\n",
       "      <th>T regs FOXP3</th>\n",
       "      <th>B cells memory</th>\n",
       "      <th>B cells naive</th>\n",
       "      <th>NK</th>\n",
       "      <th>Macrophage M1</th>\n",
       "      <th>Macrophage M2</th>\n",
       "      <th>...</th>\n",
       "      <th>pDC</th>\n",
       "      <th>Terminal exhaustion</th>\n",
       "      <th>Precursor exhaustion</th>\n",
       "      <th>CAFs MSC iCAF-like</th>\n",
       "      <th>CAFs myCAF-like</th>\n",
       "      <th>PVL differentiated</th>\n",
       "      <th>PVL immature</th>\n",
       "      <th>Normal epithelial</th>\n",
       "      <th>Plasmablasts</th>\n",
       "      <th>Melanoma</th>\n",
       "    </tr>\n",
       "  </thead>\n",
       "  <tbody>\n",
       "    <tr>\n",
       "      <th>0</th>\n",
       "      <td>0</td>\n",
       "      <td>CCR7</td>\n",
       "      <td>IL7R</td>\n",
       "      <td>CXCL13</td>\n",
       "      <td>TNFRSF4</td>\n",
       "      <td>MS4A1</td>\n",
       "      <td>CD79A</td>\n",
       "      <td>GNLY</td>\n",
       "      <td>C1QB</td>\n",
       "      <td>CXCL10</td>\n",
       "      <td>...</td>\n",
       "      <td>IL3RA</td>\n",
       "      <td>CD3G</td>\n",
       "      <td>TCF7</td>\n",
       "      <td>APOD</td>\n",
       "      <td>COL1A1</td>\n",
       "      <td>ACTA2</td>\n",
       "      <td>CCL19</td>\n",
       "      <td>KRT14</td>\n",
       "      <td>IGKV3-15</td>\n",
       "      <td>PMEL</td>\n",
       "    </tr>\n",
       "    <tr>\n",
       "      <th>1</th>\n",
       "      <td>1</td>\n",
       "      <td>LTB</td>\n",
       "      <td>ANXA1</td>\n",
       "      <td>NMB</td>\n",
       "      <td>LTB</td>\n",
       "      <td>CD79A</td>\n",
       "      <td>TCL1A</td>\n",
       "      <td>XCL1</td>\n",
       "      <td>C1QA</td>\n",
       "      <td>C1QB</td>\n",
       "      <td>...</td>\n",
       "      <td>LILRA4</td>\n",
       "      <td>FASLG</td>\n",
       "      <td>MS4A4A</td>\n",
       "      <td>DCN</td>\n",
       "      <td>COL1A2</td>\n",
       "      <td>TAGLN</td>\n",
       "      <td>RGS5</td>\n",
       "      <td>KRT17</td>\n",
       "      <td>IGHG1</td>\n",
       "      <td>MLANA</td>\n",
       "    </tr>\n",
       "    <tr>\n",
       "      <th>2</th>\n",
       "      <td>2</td>\n",
       "      <td>IL7R</td>\n",
       "      <td>CXCR4</td>\n",
       "      <td>NR3C1</td>\n",
       "      <td>IL32</td>\n",
       "      <td>CD83</td>\n",
       "      <td>MS4A1</td>\n",
       "      <td>XCL2</td>\n",
       "      <td>C1QC</td>\n",
       "      <td>C1QC</td>\n",
       "      <td>...</td>\n",
       "      <td>CD123</td>\n",
       "      <td>ID2</td>\n",
       "      <td>TNFSF8</td>\n",
       "      <td>PTGDS</td>\n",
       "      <td>COL3A1</td>\n",
       "      <td>MYL9</td>\n",
       "      <td>IGFBP7</td>\n",
       "      <td>LTF</td>\n",
       "      <td>IGKV1-5</td>\n",
       "      <td>MITF</td>\n",
       "    </tr>\n",
       "    <tr>\n",
       "      <th>3</th>\n",
       "      <td>3</td>\n",
       "      <td>SARAF</td>\n",
       "      <td>KLRB1</td>\n",
       "      <td>DUSP4</td>\n",
       "      <td>BATF</td>\n",
       "      <td>CD37</td>\n",
       "      <td>CD37</td>\n",
       "      <td>AREG</td>\n",
       "      <td>CCL3</td>\n",
       "      <td>CXCL9</td>\n",
       "      <td>...</td>\n",
       "      <td>TCF4</td>\n",
       "      <td>LAG3</td>\n",
       "      <td>CXCL10</td>\n",
       "      <td>CFD</td>\n",
       "      <td>LUM</td>\n",
       "      <td>TPM2</td>\n",
       "      <td>NDUFA4L2</td>\n",
       "      <td>KRT15</td>\n",
       "      <td>IGKV3-20</td>\n",
       "      <td>NaN</td>\n",
       "    </tr>\n",
       "    <tr>\n",
       "      <th>4</th>\n",
       "      <td>4</td>\n",
       "      <td>SELL</td>\n",
       "      <td>TNFAIP3</td>\n",
       "      <td>TNFRSF18</td>\n",
       "      <td>FOXP3</td>\n",
       "      <td>BANK1</td>\n",
       "      <td>CD74</td>\n",
       "      <td>KLRD1</td>\n",
       "      <td>CCL3L3</td>\n",
       "      <td>C1QA</td>\n",
       "      <td>...</td>\n",
       "      <td>IRF7</td>\n",
       "      <td>RGS1</td>\n",
       "      <td>EEF1B2</td>\n",
       "      <td>LUM</td>\n",
       "      <td>SFRP2</td>\n",
       "      <td>NDUFA4L2</td>\n",
       "      <td>CCL2</td>\n",
       "      <td>PTN</td>\n",
       "      <td>IGKV3-11</td>\n",
       "      <td>NaN</td>\n",
       "    </tr>\n",
       "  </tbody>\n",
       "</table>\n",
       "<p>5 rows × 26 columns</p>\n",
       "</div>"
      ],
      "text/plain": [
       "   Unnamed: 0 T cells CD4 CCR7 T cells CD4 IL7R T cells CD4 Tfh CXCL13  \\\n",
       "0           0             CCR7             IL7R                 CXCL13   \n",
       "1           1              LTB            ANXA1                    NMB   \n",
       "2           2             IL7R            CXCR4                  NR3C1   \n",
       "3           3            SARAF            KLRB1                  DUSP4   \n",
       "4           4             SELL          TNFAIP3               TNFRSF18   \n",
       "\n",
       "  T regs FOXP3 B cells memory B cells naive     NK Macrophage M1  \\\n",
       "0      TNFRSF4          MS4A1         CD79A   GNLY          C1QB   \n",
       "1          LTB          CD79A         TCL1A   XCL1          C1QA   \n",
       "2         IL32           CD83         MS4A1   XCL2          C1QC   \n",
       "3         BATF           CD37          CD37   AREG          CCL3   \n",
       "4        FOXP3          BANK1          CD74  KLRD1        CCL3L3   \n",
       "\n",
       "  Macrophage M2  ...     pDC Terminal exhaustion Precursor exhaustion  \\\n",
       "0        CXCL10  ...   IL3RA                CD3G                 TCF7   \n",
       "1          C1QB  ...  LILRA4               FASLG               MS4A4A   \n",
       "2          C1QC  ...   CD123                 ID2               TNFSF8   \n",
       "3         CXCL9  ...    TCF4                LAG3               CXCL10   \n",
       "4          C1QA  ...    IRF7                RGS1               EEF1B2   \n",
       "\n",
       "  CAFs MSC iCAF-like CAFs myCAF-like PVL differentiated PVL immature  \\\n",
       "0               APOD          COL1A1              ACTA2        CCL19   \n",
       "1                DCN          COL1A2              TAGLN         RGS5   \n",
       "2              PTGDS          COL3A1               MYL9       IGFBP7   \n",
       "3                CFD             LUM               TPM2     NDUFA4L2   \n",
       "4                LUM           SFRP2           NDUFA4L2         CCL2   \n",
       "\n",
       "  Normal epithelial Plasmablasts Melanoma  \n",
       "0             KRT14     IGKV3-15     PMEL  \n",
       "1             KRT17        IGHG1    MLANA  \n",
       "2               LTF      IGKV1-5     MITF  \n",
       "3             KRT15     IGKV3-20      NaN  \n",
       "4               PTN     IGKV3-11      NaN  \n",
       "\n",
       "[5 rows x 26 columns]"
      ]
     },
     "execution_count": 17,
     "metadata": {},
     "output_type": "execute_result"
    }
   ],
   "source": [
    "gene_sig = utils.filter_gene_sig(gene_sig, adata.to_df())\n",
    "gene_sig.head()"
   ]
  },
  {
   "cell_type": "code",
   "execution_count": 11,
   "id": "c551f511-ff6e-41c9-9112-39aff0ec789f",
   "metadata": {},
   "outputs": [
    {
     "data": {
      "text/plain": [
       "AnnData object with n_obs × n_vars = 6492 × 17796\n",
       "    obs: 'in_tissue', 'array_row', 'array_col'\n",
       "    var: 'gene_ids', 'feature_types', 'genome'\n",
       "    uns: 'spatial'\n",
       "    obsm: 'spatial'"
      ]
     },
     "execution_count": 11,
     "metadata": {},
     "output_type": "execute_result"
    }
   ],
   "source": [
    "adata"
   ]
  },
  {
   "cell_type": "code",
   "execution_count": 21,
   "id": "4e7ba9d8-7993-439e-9f82-d4c3c8db8017",
   "metadata": {},
   "outputs": [
    {
     "name": "stderr",
     "output_type": "stream",
     "text": [
      "[2024-03-24 04:05:59] Preprocessing1: delete the mt and rp\n",
      "[2024-03-24 04:06:14] Preprocessing2: Normalize\n",
      "[2024-03-24 04:06:14] Preprocessing3: Logarithm\n",
      "[2024-03-24 04:06:14] Preprocessing4: Find the variable genes\n"
     ]
    }
   ],
   "source": [
    "# Load expression counts and signature gene sets\n",
    "adata, adata_normed = utils.load_adata(data_folder=data_path,\n",
    "                                       sample_id=sample_id, # sample id\n",
    "                                       n_genes=2000  # number of highly variable genes to keep\n",
    "                                       )\n"
   ]
  },
  {
   "cell_type": "code",
   "execution_count": 22,
   "id": "f37a20a6-95da-4989-856e-3c0f7591eca4",
   "metadata": {},
   "outputs": [
    {
     "ename": "FileNotFoundError",
     "evalue": "[Errno 2] No such file or directory: '/dartfs/rc/nosnapshots/V/VaickusL-nb/EDIT_Students/users/alos/colon_work/adata/star_example/spatial/scalefactors_json.json'",
     "output_type": "error",
     "traceback": [
      "\u001b[0;31m---------------------------------------------------------------------------\u001b[0m",
      "\u001b[0;31mFileNotFoundError\u001b[0m                         Traceback (most recent call last)",
      "Cell \u001b[0;32mIn[22], line 2\u001b[0m\n\u001b[1;32m      1\u001b[0m \u001b[38;5;66;03m# Load spatial information\u001b[39;00m\n\u001b[0;32m----> 2\u001b[0m img_metadata \u001b[38;5;241m=\u001b[39m \u001b[43mutils\u001b[49m\u001b[38;5;241;43m.\u001b[39;49m\u001b[43mpreprocess_img\u001b[49m\u001b[43m(\u001b[49m\u001b[43mdata_path\u001b[49m\u001b[43m,\u001b[49m\n\u001b[1;32m      3\u001b[0m \u001b[43m                                    \u001b[49m\u001b[43msample_id\u001b[49m\u001b[43m,\u001b[49m\n\u001b[1;32m      4\u001b[0m \u001b[43m                                    \u001b[49m\u001b[43madata_index\u001b[49m\u001b[38;5;241;43m=\u001b[39;49m\u001b[43madata\u001b[49m\u001b[38;5;241;43m.\u001b[39;49m\u001b[43mobs\u001b[49m\u001b[38;5;241;43m.\u001b[39;49m\u001b[43mindex\u001b[49m\u001b[43m,\u001b[49m\n\u001b[1;32m      5\u001b[0m \u001b[43m                                    \u001b[49m\u001b[43mhchannel\u001b[49m\u001b[38;5;241;43m=\u001b[39;49m\u001b[38;5;28;43;01mFalse\u001b[39;49;00m\n\u001b[1;32m      6\u001b[0m \u001b[43m                                    \u001b[49m\u001b[43m)\u001b[49m\n",
      "File \u001b[0;32m/dartfs/rc/nosnapshots/V/VaickusL-nb/EDIT_Students/users/alos/cell2loc_env/lib/python3.9/site-packages/starfysh/utils.py:691\u001b[0m, in \u001b[0;36mpreprocess_img\u001b[0;34m(data_path, sample_id, adata_index, hchannel)\u001b[0m\n\u001b[1;32m    688\u001b[0m     adata_image \u001b[38;5;241m=\u001b[39m \u001b[38;5;28;01mNone\u001b[39;00m\n\u001b[1;32m    690\u001b[0m \u001b[38;5;66;03m# Mapping images to location\u001b[39;00m\n\u001b[0;32m--> 691\u001b[0m f \u001b[38;5;241m=\u001b[39m \u001b[38;5;28;43mopen\u001b[39;49m\u001b[43m(\u001b[49m\u001b[43mos\u001b[49m\u001b[38;5;241;43m.\u001b[39;49m\u001b[43mpath\u001b[49m\u001b[38;5;241;43m.\u001b[39;49m\u001b[43mjoin\u001b[49m\u001b[43m(\u001b[49m\u001b[43mdata_path\u001b[49m\u001b[43m,\u001b[49m\u001b[43m \u001b[49m\u001b[43msample_id\u001b[49m\u001b[43m,\u001b[49m\u001b[43m \u001b[49m\u001b[38;5;124;43m'\u001b[39;49m\u001b[38;5;124;43mspatial\u001b[39;49m\u001b[38;5;124;43m'\u001b[39;49m\u001b[43m,\u001b[49m\u001b[43m \u001b[49m\u001b[38;5;124;43m'\u001b[39;49m\u001b[38;5;124;43mscalefactors_json.json\u001b[39;49m\u001b[38;5;124;43m'\u001b[39;49m\u001b[43m,\u001b[49m\u001b[43m \u001b[49m\u001b[43m)\u001b[49m\u001b[43m)\u001b[49m\n\u001b[1;32m    692\u001b[0m json_info \u001b[38;5;241m=\u001b[39m json\u001b[38;5;241m.\u001b[39mload(f)\n\u001b[1;32m    693\u001b[0m f\u001b[38;5;241m.\u001b[39mclose()\n",
      "\u001b[0;31mFileNotFoundError\u001b[0m: [Errno 2] No such file or directory: '/dartfs/rc/nosnapshots/V/VaickusL-nb/EDIT_Students/users/alos/colon_work/adata/star_example/spatial/scalefactors_json.json'"
     ]
    }
   ],
   "source": [
    "# Load spatial information\n",
    "img_metadata = utils.preprocess_img(data_path,\n",
    "                                    sample_id,\n",
    "                                    adata_index=adata.obs.index,\n",
    "                                    hchannel=False\n",
    "                                    )"
   ]
  },
  {
   "cell_type": "code",
   "execution_count": 12,
   "id": "804fc57d-cc14-42c4-a627-4d87dee19600",
   "metadata": {},
   "outputs": [
    {
     "data": {
      "text/plain": [
       "Index(['AACAATCCGAGTGGAC-1', 'AACAATGTGCTCCGAG-1', 'AACACGACAACGGAGT-1',\n",
       "       'AACACGACAATTGTTC-1', 'AACACGGAACGAGTTA-1', 'AACACGGCACCGATAG-1',\n",
       "       'AACACGTTGATACCGC-1', 'AACACTCGTGAGCTTC-1', 'AACAGACCGCGATCTG-1',\n",
       "       'AACAGCCTCCTGACTA-1',\n",
       "       ...\n",
       "       'TGTTGCCAGTCGCCTG-1', 'TGTTGCCGTTCGACCA-1', 'TGTTGCTATCGGTGGC-1',\n",
       "       'TGTTGCTCGATGTCTG-1', 'TGTTGGAGCCGCGACG-1', 'TGTTGGATAGATCAGA-1',\n",
       "       'TGTTGGCCGGATTGGT-1', 'TGTTGGTGATTAGGTA-1', 'TGTTGGTGCGGAATCA-1',\n",
       "       'TGTTGGTGGACTCAGG-1'],\n",
       "      dtype='object', length=6492)"
      ]
     },
     "execution_count": 12,
     "metadata": {},
     "output_type": "execute_result"
    }
   ],
   "source": []
  },
  {
   "cell_type": "code",
   "execution_count": null,
   "id": "50ddbee8-272a-4b9c-83e6-57cb1b2b9d2d",
   "metadata": {},
   "outputs": [],
   "source": []
  }
 ],
 "metadata": {
  "kernelspec": {
   "display_name": "Python 3 (ipykernel)",
   "language": "python",
   "name": "python3"
  },
  "language_info": {
   "codemirror_mode": {
    "name": "ipython",
    "version": 3
   },
   "file_extension": ".py",
   "mimetype": "text/x-python",
   "name": "python",
   "nbconvert_exporter": "python",
   "pygments_lexer": "ipython3",
   "version": "3.9.19"
  }
 },
 "nbformat": 4,
 "nbformat_minor": 5
}
